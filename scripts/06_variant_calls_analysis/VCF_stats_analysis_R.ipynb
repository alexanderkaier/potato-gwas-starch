{
 "cells": [
  {
   "cell_type": "code",
   "execution_count": null,
   "metadata": {},
   "outputs": [],
   "source": [
    "library(tidyverse)\n",
    "library(here)\n",
    "library(cowplot)"
   ]
  },
  {
   "cell_type": "code",
   "execution_count": null,
   "metadata": {},
   "outputs": [],
   "source": [
    "inPathF = here('analysis','variant_calling_GWAS_SNPS/')\n",
    "inPathU = here('analysis','variant_calling_GWAS_SNPS_subset100000/')"
   ]
  },
  {
   "cell_type": "markdown",
   "metadata": {},
   "source": [
    "## Analyzing the overall QUAL of the SNPs for both, filtered and unfiltered VCF files"
   ]
  },
  {
   "cell_type": "code",
   "execution_count": null,
   "metadata": {},
   "outputs": [],
   "source": [
    "varQualF = read_delim(paste0(inPathF, 'SNPS_GWAS.lqual'), delim = \"\\t\",\n",
    "                     col_names = c(\"chr\", \"pos\", \"qual\"), skip = 1)\n",
    "varQualU = read_delim(paste0(inPathU, 'SNPS_135-samples_subset100000.lqual'), delim = \"\\t\",\n",
    "                     col_names = c(\"chr\", \"pos\", \"qual\"), skip = 1)"
   ]
  },
  {
   "cell_type": "code",
   "execution_count": null,
   "metadata": {},
   "outputs": [],
   "source": [
    "summary(varQualF$qual)\n",
    "quantile(varQualF$qual, prob = c(0.25, 0.5, 0.75, 1))\n",
    "summary(varQualU$qual)\n",
    "quantile(varQualU$qual, prob = c(0.25, 0.5, 0.75, 1))"
   ]
  },
  {
   "cell_type": "code",
   "execution_count": null,
   "metadata": {},
   "outputs": [],
   "source": [
    "nrow(varQualF)\n",
    "nrow(varQualU)"
   ]
  },
  {
   "cell_type": "code",
   "execution_count": null,
   "metadata": {},
   "outputs": [],
   "source": [
    "# What is the percentage of variants having a QUAL value below 30\n",
    "\n",
    "# Cumulative distribution function\n",
    "fF <- ecdf(varQualF$qual)\n",
    "# How many sites have QUAL <= 1000 (percent)\n",
    "fF(100000) * 100\n",
    "# How many sites have QUAL > 1000 (percent)\n",
    "100 - (fF(100000) * 100)\n",
    "\n",
    "\n",
    "# Cumulative distribution function\n",
    "fU <- ecdf(varQualU$qual)\n",
    "# How many sites have QUAL <= 30 (percent)\n",
    "fU(100) * 100\n",
    "# How many sites have QUAL > 30 (percent)\n",
    "100 - (fU(30) * 100)"
   ]
  },
  {
   "cell_type": "code",
   "execution_count": null,
   "metadata": {},
   "outputs": [],
   "source": [
    "# Estimating the numbers of retained SNPs after filtering for QUAL > 30"
   ]
  },
  {
   "cell_type": "code",
   "execution_count": null,
   "metadata": {},
   "outputs": [],
   "source": [
    "# Creating plot for quality \n",
    "PlotQualF = ggplot(varQualF, aes(qual)) + \n",
    "    geom_density(fill = \"dodgerblue1\", colour = \"black\", alpha = 0.3) + \n",
    "    theme_light() + \n",
    "    ggtitle(\"Filtered\") + \n",
    "    theme(plot.title = element_text(hjust = 0.5, size = 25),\n",
    "        legend.position = \"none\", \n",
    "        axis.title.x = element_text(size = 20, margin = margin(t = 20, r = 0, b = 0, l = 0)),  \n",
    "        axis.title.y = element_text(size = 20, margin = margin(t = 0, r = 20, b = 0, l = 0)),\n",
    "        axis.text.x = element_text(size=15),\n",
    "        axis.text.y = element_text(size=15)) + \n",
    "    xlab(\"Quality per SNP\") + \n",
    "    ylab(\"Density\") +\n",
    "    annotate(\"text\", label = \"bar(x) == '278,941'\", parse = TRUE, x = 6250, y = 0.000145, size = 7, hjust=0) + \n",
    "    annotate(\"text\", label = \"tilde(x) == '16,593'\", parse = TRUE, x = 6250, y = 0.00013, size = 7, hjust=0) + \n",
    "    xlim(0, 10000) +\n",
    "    scale_y_continuous(breaks = c(0, 0.00005, 0.0001, 0.00015, 0.0002),\n",
    "                       labels = expression('0', paste(5, 'x', 10^-5), paste(10^-4), paste(1.5, 'x', 10^-4), paste(2, 'x', 10^-4)))\n",
    "# Creating plot for quality \n",
    "PlotQualU = ggplot(varQualU, aes(qual)) + \n",
    "    geom_density(fill = \"dodgerblue1\", colour = \"black\", alpha = 0.3) + \n",
    "    theme_light() + \n",
    "    ggtitle(\"Unfiltered\") + \n",
    "    theme(plot.title = element_text(hjust = 0.5, size = 25),\n",
    "        legend.position = \"none\", \n",
    "        axis.title.x = element_text(size = 20, margin = margin(t = 20, r = 0, b = 0, l = 0)),  \n",
    "        axis.title.y = element_text(size = 20, margin = margin(t = 0, r = 20, b = 0, l = 0)),\n",
    "        axis.text.x = element_text(size=15),\n",
    "        axis.text.y = element_text(size=15)) + \n",
    "    xlab(\"Quality per SNP\") + \n",
    "    ylab(\"Density\") +\n",
    "    annotate(\"text\", label = \"bar(x) == '19,579'\", parse = TRUE, x = 125, y = 0.1, size = 7, hjust=0) + \n",
    "    annotate(\"text\", label = \"tilde(x) == '6'\", parse = TRUE, x = 125, y = 0.092, size = 7, hjust=0) + \n",
    "    xlim(0, 200)\n",
    "\n",
    "PlotQualF\n",
    "PlotQualU"
   ]
  },
  {
   "cell_type": "markdown",
   "metadata": {},
   "source": [
    "## Analyzing the average read depth of the SNPs for both, filtered and unfiltered VCF files"
   ]
  },
  {
   "cell_type": "code",
   "execution_count": null,
   "metadata": {},
   "outputs": [],
   "source": [
    "varDepthF <- read_delim(paste0(inPathF, 'SNPS_GWAS.ldepth.mean'), delim = \"\\t\",\n",
    "                     col_names = c(\"chr\", \"pos\", \"mean_depth\", \"var_depth\"), skip = 1)\n",
    "varDepthU <- read_delim(paste0(inPathU, 'SNPS_135-samples_subset100000.ldepth.mean'), delim = \"\\t\",\n",
    "                     col_names = c(\"chr\", \"pos\", \"mean_depth\", \"var_depth\"), skip = 1)"
   ]
  },
  {
   "cell_type": "code",
   "execution_count": null,
   "metadata": {},
   "outputs": [],
   "source": [
    "# Statistics about the mean sequencing depth for each site\n",
    "summary(varDepthF$mean_depth)\n",
    "quantile(varDepthF$mean_depth, prob = c(0.25, 0.5, 0.75, 1), na.rm = TRUE)\n",
    "\n",
    "summary(varDepthU$mean_depth)\n",
    "quantile(varDepthU$mean_depth, prob = c(0.25, 0.5, 0.75, 1), na.rm = TRUE)"
   ]
  },
  {
   "cell_type": "code",
   "execution_count": null,
   "metadata": {},
   "outputs": [],
   "source": [
    "# What is the percentage of variants having a QUAL value below 30\n",
    "# Cumulative distribution function\n",
    "fDF <- ecdf(varDepthF$mean_depth)\n",
    "# How many sites have read mean depth <= 61 (percent)\n",
    "fDF(61) * 100\n",
    "# How many sites have read mean depth > 61 (percent)\n",
    "100 - (fDF(61) * 100)\n",
    "# Estimating the numbers of retained SNPs after filtering for read mean depth > 61\n",
    "\n",
    "# What is the percentage of variants having a QUAL value below 30\n",
    "# Cumulative distribution function\n",
    "fDU <- ecdf(varDepthU$mean_depth)\n",
    "# How many sites have read mean depth <= 61 (percent)\n",
    "fDU(36) * 100\n",
    "# How many sites have read mean depth > 61 (percent)\n",
    "100 - (fDU(36) * 100)\n",
    "# Estimating the numbers of retained SNPs after filtering for read mean depth > 61"
   ]
  },
  {
   "cell_type": "code",
   "execution_count": null,
   "metadata": {},
   "outputs": [],
   "source": [
    "# Creating plot for read depth\n",
    "PlotDepthF = ggplot(varDepthF, aes(mean_depth)) + \n",
    "    geom_density(fill = \"dodgerblue1\", colour = \"black\", alpha = 0.3) + \n",
    "    theme_light() + \n",
    "    ggtitle(\"Filtered\") + \n",
    "    theme(plot.title = element_text(hjust = 0.5, size = 25),\n",
    "        legend.position = \"none\", \n",
    "        axis.title.x = element_text(size = 20, margin = margin(t = 20, r = 0, b = 0, l = 0)),  \n",
    "        axis.title.y = element_text(size = 20, margin = margin(t = 0, r = 20, b = 0, l = 0)),\n",
    "        axis.text.x = element_text(size=15),\n",
    "        axis.text.y = element_text(size=15)) + \n",
    "    xlab(\"Mean depth per SNP\") + \n",
    "    ylab(\"Density\") +\n",
    "    annotate(\"text\", label = \"bar(x) == '465'\", parse = TRUE, x = 875, y = 0.00148, size = 7, hjust=0) + \n",
    "    annotate(\"text\", label = \"tilde(x) == '425'\", parse = TRUE, x = 875, y = 0.00135, size = 7, hjust=0) + \n",
    "    xlim(0, 1500) +\n",
    "    scale_y_continuous(breaks = c(0, 0.0005, 0.001, 0.0015, 0.002),\n",
    "                       labels = expression('0', paste(5, 'x', 10^-4), paste(10^-3), paste(1.5, 'x', 10^-3), paste(2, 'x', 10^-3)))\n",
    "PlotDepthU = ggplot(varDepthU, aes(mean_depth)) + \n",
    "    geom_density(fill = \"dodgerblue1\", colour = \"black\", alpha = 0.3) + \n",
    "    theme_light() + \n",
    "    ggtitle(\"Unfiltered\") + \n",
    "    theme(plot.title = element_text(hjust = 0.5, size = 25),\n",
    "        legend.position = \"none\", \n",
    "        axis.title.x = element_text(size = 20, margin = margin(t = 20, r = 0, b = 0, l = 0)),  \n",
    "        axis.title.y = element_text(size = 20, margin = margin(t = 0, r = 20, b = 0, l = 0)),\n",
    "        axis.text.x = element_text(size=15),\n",
    "        axis.text.y = element_text(size=15)) + \n",
    "    xlab(\"Mean depth per SNP\") + \n",
    "    ylab(\"Density\") +\n",
    "    annotate(\"text\", label = \"bar(x) == '36'\", parse = TRUE, x = 60, y = 0.18, size = 7, hjust=0) + \n",
    "    annotate(\"text\", label = \"tilde(x) == '4'\", parse = TRUE, x = 60, y = 0.162, size = 7, hjust=0) + \n",
    "    xlim(0, 100)\n",
    "\n",
    "PlotDepthF\n",
    "PlotDepthU"
   ]
  },
  {
   "cell_type": "markdown",
   "metadata": {},
   "source": [
    "## Analyzing the distribution of average read depth among the samples for both, filtered and unfiltered VCF files"
   ]
  },
  {
   "cell_type": "code",
   "execution_count": null,
   "metadata": {},
   "outputs": [],
   "source": [
    "indDepthF <- read_delim(paste0(inPathF, 'SNPS_GWAS.idepth'), delim = \"\\t\",\n",
    "                     col_names = c(\"ind\", \"nsites\", \"depth\"), skip = 1)\n",
    "indDepthU <- read_delim(paste0(inPathU, 'SNPS_135-samples_subset100000.idepth'), delim = \"\\t\",\n",
    "                     col_names = c(\"ind\", \"nsites\", \"depth\"), skip = 1)"
   ]
  },
  {
   "cell_type": "code",
   "execution_count": null,
   "metadata": {},
   "outputs": [],
   "source": [
    "# Statistics about the mean sequencing depth for each individual\n",
    "summary(indDepthF$depth)\n",
    "quantile(indDepthF$depth, prob = c(0.25, 0.5, 0.75, 1))\n",
    "\n",
    "summary(indDepthU$depth)\n",
    "quantile(indDepthU$depth, prob = c(0.25, 0.5, 0.75, 1))"
   ]
  },
  {
   "cell_type": "code",
   "execution_count": null,
   "metadata": {},
   "outputs": [],
   "source": [
    "# What is the percentage of individuals having an average read depth below 61\n",
    "# Cumulative distribution function\n",
    "fDeF <- ecdf(indDepthF$depth)\n",
    "# How many samples have read mean depth <= 61 (percent)\n",
    "fDeF(61) * 100\n",
    "# How many samples have read mean depth > 61 (percent)\n",
    "100 - (fDeF(61) * 100)\n",
    "# Estimating the numbers of retained SNPs after filtering for read mean depth > 61\n",
    "\n",
    "# What is the percentage of individuals having an average read depth below 61\n",
    "# Cumulative distribution function\n",
    "fDeU <- ecdf(indDepthU$depth)\n",
    "# How many samples have read mean depth <= 61 (percent)\n",
    "fDeU(61) * 100\n",
    "# How many samples have read mean depth > 61 (percent)\n",
    "100 - (fDeU(61) * 100)\n",
    "# Estimating the numbers of retained SNPs after filtering for read mean depth > 61"
   ]
  },
  {
   "cell_type": "code",
   "execution_count": null,
   "metadata": {},
   "outputs": [],
   "source": [
    "PlotDepthSampleF = ggplot(indDepthF, aes(depth)) + \n",
    "    geom_density(fill = \"dodgerblue1\", colour = \"black\", alpha = 0.3) + \n",
    "    theme_light() + \n",
    "    ggtitle(\"Filtered\") + \n",
    "    theme(plot.title = element_text(hjust = 0.5, size = 25),\n",
    "        legend.position = \"none\", \n",
    "        axis.title.x = element_text(size = 20, margin = margin(t = 20, r = 0, b = 0, l = 0)),  \n",
    "        axis.title.y = element_text(size = 20, margin = margin(t = 0, r = 20, b = 0, l = 0)),\n",
    "        axis.text.x = element_text(size=15),\n",
    "        axis.text.y = element_text(size=15)) + \n",
    "    xlab(\"Mean depth per sample\") + \n",
    "    ylab(\"Density\") +\n",
    "    annotate(\"text\", label = \"bar(x) == '465'\", parse = TRUE, x = 670, y = 0.005, size = 7, hjust=0) + \n",
    "    annotate(\"text\", label = \"tilde(x) == '467'\", parse = TRUE, x = 670, y = 0.0045, size = 7, hjust=0) + \n",
    "    xlim(0, 1000) +\n",
    "    scale_y_continuous(breaks = c(0, 0.001, 0.002, 0.003, 0.004, 0.005, 0.006, 0.007, 0.008),\n",
    "                       labels = expression('0', paste(10^-3), paste(2, 'x', 10^-3), paste(3, 'x', 10^-3), paste(4, 'x', 10^-3), paste(5, 'x', 10^-3), paste(6, 'x', 10^-3), paste(7, 'x', 10^-3), paste(8, 'x', 10^-3)))\n",
    "\n",
    "PlotDepthSampleU = ggplot(indDepthU, aes(depth)) + \n",
    "    geom_density(fill = \"dodgerblue1\", colour = \"black\", alpha = 0.3) + \n",
    "    theme_light() + \n",
    "    ggtitle(\"Unfiltered\") + \n",
    "    theme(plot.title = element_text(hjust = 0.5, size = 25),\n",
    "        legend.position = \"none\", \n",
    "        axis.title.x = element_text(size = 20, margin = margin(t = 20, r = 0, b = 0, l = 0)),  \n",
    "        axis.title.y = element_text(size = 20, margin = margin(t = 0, r = 20, b = 0, l = 0)),\n",
    "        axis.text.x = element_text(size=15),\n",
    "        axis.text.y = element_text(size=15)) + \n",
    "    xlab(\"Mean depth per sample\") + \n",
    "    ylab(\"Density\") +\n",
    "    annotate(\"text\", label = \"bar(x) == '66'\", parse = TRUE, x = 150, y = 0.05, size = 7, hjust=0) + \n",
    "    annotate(\"text\", label = \"tilde(x) == '65'\", parse = TRUE, x = 150, y = 0.045, size = 7, hjust=0) + \n",
    "    xlim(0, 200) +\n",
    "    scale_y_continuous(breaks = c(0, 0.01, 0.02, 0.03, 0.04, 0.05, 0.06))\n",
    "\n",
    "PlotDepthSampleF\n",
    "PlotDepthSampleU"
   ]
  },
  {
   "cell_type": "code",
   "execution_count": null,
   "metadata": {},
   "outputs": [],
   "source": [
    "png(filename=here('Figures', 'VCF_QC.png'), res=100, width = 1400, height = 1800)\n",
    "plot_grid(PlotQualU, PlotQualF, PlotDepthU, PlotDepthF, PlotDepthSampleU, PlotDepthSampleF,\n",
    "          nrow = 3, ncol = 2, labels = \"auto\", label_size = 20, scale = 0.9)\n",
    "dev.off()"
   ]
  },
  {
   "cell_type": "markdown",
   "metadata": {},
   "source": [
    "# Analyzing QUAL>30 & MaxDepth filtered data"
   ]
  },
  {
   "cell_type": "code",
   "execution_count": null,
   "metadata": {},
   "outputs": [],
   "source": [
    "inPath <- here('analysis','variant_calling_GWAS_SNPS/')\n",
    "varDepth <- read_delim(paste0(inPath, 'SNPS_135-samples_QUAL-30_MaxDepth.ldepth.mean'), delim = \"\\t\",\n",
    "                     col_names = c(\"chr\", \"pos\", \"mean_depth\", \"var_depth\"), skip = 1)"
   ]
  },
  {
   "cell_type": "code",
   "execution_count": null,
   "metadata": {},
   "outputs": [],
   "source": [
    "# Statistics about the mean sequencing depth for each site\n",
    "summary(varDepth$mean_depth)\n",
    "quantile(varDepth$mean_depth, prob = c(0.25, 0.5, 0.75, 1), na.rm = TRUE)\n",
    "\n",
    "# What is the percentage of variants having a QUAL value below 30\n",
    "# Cumulative distribution function\n",
    "fD <- ecdf(varDepth$mean_depth)\n",
    "# Defining the threshold for inspection\n",
    "threshold <- 10\n",
    "# How many sites have read mean depth <= threshold (percent)\n",
    "fD(threshold) * 100\n",
    "# How many sites have read mean depth > threshold (percent)\n",
    "100 - (fD(threshold) * 100)\n",
    "# Estimating the numbers of retained SNPs after filtering for read the threshold\n",
    "210229 * (1 - fD(threshold))"
   ]
  },
  {
   "cell_type": "code",
   "execution_count": null,
   "metadata": {},
   "outputs": [],
   "source": [
    "# Creating plot for read depth\n",
    "ggplot(varDepth, aes(mean_depth)) + \n",
    "    geom_density(fill = \"dodgerblue1\", colour = \"black\", alpha = 0.3) + \n",
    "    theme_light()"
   ]
  }
 ],
 "metadata": {
  "kernelspec": {
   "display_name": "R",
   "language": "R",
   "name": "ir"
  },
  "language_info": {
   "codemirror_mode": "r",
   "file_extension": ".r",
   "mimetype": "text/x-r-source",
   "name": "R",
   "pygments_lexer": "r",
   "version": "3.6.3"
  }
 },
 "nbformat": 4,
 "nbformat_minor": 4
}
