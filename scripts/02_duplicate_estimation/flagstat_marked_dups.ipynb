{
 "cells": [
  {
   "cell_type": "code",
   "execution_count": null,
   "metadata": {},
   "outputs": [],
   "source": [
    "import re\n",
    "import os\n",
    "import pysam\n",
    "import subprocess\n",
    "import numpy as np\n",
    "import pandas as pd\n",
    "from pprint import pprint"
   ]
  },
  {
   "cell_type": "code",
   "execution_count": null,
   "metadata": {},
   "outputs": [],
   "source": [
    "twd = os.path.abspath(\"../../analysis/alignment_data_markeddup/bwa-mem/samtools\")\n",
    "print(twd)"
   ]
  },
  {
   "cell_type": "code",
   "execution_count": null,
   "metadata": {},
   "outputs": [],
   "source": [
    "def getFilePath(path = '../../analysis/alignment_data_markeddup/bwa-mem/samtools'):\n",
    "    '''\n",
    "    This function takes a path, removes the \"here\" path from it and returns a list containing the \n",
    "    absolute path of all 'samtools stats' output files within that path.\n",
    "    '''\n",
    "    pathList = []\n",
    "    for root, subfolder, file in os.walk(path):\n",
    "        # Excluding the \"here\" path ('.'). It is important to not execute the script from a path with\n",
    "        # different relative distance to the target path to not fail expected path depth\n",
    "        if root.count(os.sep) == 6:\n",
    "            # Concatenating the sample paths and the samtools stats output file\n",
    "            sample = root.split('/')[-1]\n",
    "            pathList.append(os.path.join(os.path.abspath(root), root.split('/')[-1] + '_flagstat_marked.out'))\n",
    "    return pathList"
   ]
  },
  {
   "cell_type": "code",
   "execution_count": null,
   "metadata": {},
   "outputs": [],
   "source": [
    "test = getFilePath()\n",
    "pprint(test)"
   ]
  },
  {
   "cell_type": "code",
   "execution_count": null,
   "metadata": {},
   "outputs": [],
   "source": [
    "# Defining paths to stat files\n",
    "trimmedPath = '../../analysis/alignment_data_markeddup/bwa-mem/samtools'\n",
    "\n",
    "# Creating a list of absolute paths with 50 entries, one for each sample stat output file\n",
    "trimmedList = getFilePath(path = trimmedPath)\n",
    "dupList = []\n",
    "allList = []\n",
    "# Looping over files and extracting summary statistics\n",
    "for i in range(len(trimmedList)):\n",
    "    \n",
    "    # Extracting summary statistics\n",
    "    # bwa mem alignment stat file summary\n",
    "    bigDict = subprocess.check_output(['crimson  flagstat {}'.format(trimmedList[i])], shell=True) # Extracting summary data for whole alignment\n",
    "    bigDict = bigDict.decode('utf-8')\n",
    "    bigDict = bigDict.split('\\n')\n",
    "    #pprint(bigDict)\n",
    "    dups = bigDict[19]\n",
    "    dups = dups.split('\\w')\n",
    "    dups = dups[-1]\n",
    "    dups = dups.split(' ')\n",
    "    dups = dups[-1]\n",
    "    dups = dups[:-1]\n",
    "    \n",
    "    tot = bigDict[29]\n",
    "    tot = tot.split('\\w')\n",
    "    tot = tot[-1]\n",
    "    tot = tot.split(' ')\n",
    "    tot = tot[-1]\n",
    "    \n",
    "    dupList.append(int(dups))\n",
    "    allList.append(int(tot))"
   ]
  },
  {
   "cell_type": "code",
   "execution_count": null,
   "metadata": {},
   "outputs": [],
   "source": [
    "dupArray = np.array(dupList)\n",
    "allArray = np.array(allList)\n",
    "ratioArray = dupArray / allArray"
   ]
  },
  {
   "cell_type": "code",
   "execution_count": null,
   "metadata": {},
   "outputs": [],
   "source": [
    "print(np.mean(ratioArray) * 100)\n",
    "print(np.std(ratioArray) * 100)"
   ]
  }
 ],
 "metadata": {
  "kernelspec": {
   "display_name": "Python 3",
   "language": "python",
   "name": "python3"
  },
  "language_info": {
   "codemirror_mode": {
    "name": "ipython",
    "version": 3
   },
   "file_extension": ".py",
   "mimetype": "text/x-python",
   "name": "python",
   "nbconvert_exporter": "python",
   "pygments_lexer": "ipython3",
   "version": "3.6.9"
  }
 },
 "nbformat": 4,
 "nbformat_minor": 4
}
