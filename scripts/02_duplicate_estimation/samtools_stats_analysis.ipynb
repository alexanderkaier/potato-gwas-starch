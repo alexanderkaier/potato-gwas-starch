{
 "cells": [
  {
   "cell_type": "code",
   "execution_count": 2,
   "metadata": {},
   "outputs": [],
   "source": [
    "import re\n",
    "import os\n",
    "import pysam\n",
    "import subprocess\n",
    "import numpy as np\n",
    "import pandas as pd\n",
    "from pprint import pprint"
   ]
  },
  {
   "cell_type": "markdown",
   "metadata": {},
   "source": [
    "## Defining the function 'getFilePath' to get the paths of all desired files"
   ]
  },
  {
   "cell_type": "code",
   "execution_count": 16,
   "metadata": {},
   "outputs": [],
   "source": [
    "def getFilePath(path = '../../analysis/alignment_data_markeddup'):\n",
    "    '''\n",
    "    This function takes a path, removes the \"here\" path from it and returns a list containing the \n",
    "    absolute path of all 'samtools stats' output files within that path.\n",
    "    '''\n",
    "    # Extracting aligner from path to extract correct stats file later\n",
    "    pathList = []\n",
    "    for root, subfolder, file in os.walk(path):\n",
    "        # Excluding the \"here\" path ('.'). It is important to not execute the script from a path with\n",
    "        # different relative distance to the target path to not fail expected path depth\n",
    "        if root.count(os.sep) == 4:\n",
    "            # Concatenating the sample paths and the samtools stats output file\n",
    "            sample = os.path.abspath(root).split('/')[-1]\n",
    "            pathList.append(os.path.join(os.path.abspath(root), sample + '_stats_marked.out'))\n",
    "    return pathList"
   ]
  },
  {
   "cell_type": "markdown",
   "metadata": {},
   "source": [
    "## Creation of empty data frame by looping over all stat files and extracting indices and sample names"
   ]
  },
  {
   "cell_type": "code",
   "execution_count": 17,
   "metadata": {},
   "outputs": [],
   "source": [
    "# Creating a list of absolute paths with 50 entries, one for each sample stat output file\n",
    "fileList = getFilePath(path = '../../analysis/alignment_data_markeddup')\n",
    "# Initialize sample index list\n",
    "sampleList = []\n",
    "# Initialize column name list\n",
    "nameArray = []\n",
    "\n",
    "# Looping over files and extracting summary statistics\n",
    "for file in fileList:\n",
    "    # Extraction of sample name as for checking data frame entry validity\n",
    "    sampleList.append(file.split('/')[-2])\n",
    "    \n",
    "    # Extracting summary statistics\n",
    "    SN = subprocess.check_output(['grep ^SN {} | cut -f 2-'.format(file)], shell=True) # Extracting summary data for whole alignment\n",
    "    SN = SN.decode('utf-8') # Decoding byte string into UTF-8 character string\n",
    "    SN = SN.split('\\n')\n",
    "    for i in range(len(SN)):\n",
    "        SN[i] = SN[i].split('\\t')\n",
    "    del(SN[-1])\n",
    "    \n",
    "    # Filling column name list (happens only in first loop)\n",
    "    if len(nameArray)==0:\n",
    "        for i in range(len(SN)):\n",
    "            # Extracting column names (also deleting leading and tailing whitespaces and replacing spaces with underscores)\n",
    "            nameArray.append(SN[i][0])\n",
    "            nameArray[i] = re.sub(r\"[^\\w\\s]\", '', nameArray[i])\n",
    "            nameArray[i] = nameArray[i].strip()\n",
    "            nameArray[i] = re.sub(r\"\\s+\", '_', nameArray[i])\n",
    "\n",
    "# Creation of empty data frame\n",
    "    statFrame = pd.DataFrame(index=sampleList, columns=nameArray)"
   ]
  },
  {
   "cell_type": "markdown",
   "metadata": {},
   "source": [
    "## Fill the data frame with a loop"
   ]
  },
  {
   "cell_type": "code",
   "execution_count": 20,
   "metadata": {},
   "outputs": [],
   "source": [
    "# Defining paths to stat files\n",
    "bwaPath = '../../analysis/alignment_data_markeddup'\n",
    "\n",
    "# Creating a list of absolute paths with 192 entries, one for each sample stat output file\n",
    "bwaList = getFilePath(path = bwaPath)\n",
    "\n",
    "# Looping over files and extracting summary statistics\n",
    "for i in range(len(bwaList)):\n",
    "    # Extraction of sample name as index identifier for filling in values\n",
    "    bwaSample = bwaList[i].split('/')[-2]\n",
    "    \n",
    "    # Extracting summary statistics\n",
    "    # bwa mem alignment stat file summary\n",
    "    bwaSN = subprocess.check_output(['grep ^SN {} | cut -f 2-'.format(bwaList[i])], shell=True) # Extracting summary data for whole alignment\n",
    "    bwaSN = bwaSN.decode('utf-8') # Decoding byte string into UTF-8 character string\n",
    "    bwaSN = bwaSN.split('\\n')  \n",
    "    \n",
    "    for i in range(len(bwaSN)):\n",
    "        bwaSN[i] = bwaSN[i].split('\\t')\n",
    "    del(bwaSN[-1])\n",
    "    \n",
    "    # Extracting specific values \n",
    "    bwaValArray = np.array([])\n",
    "    for i in range(len(bwaSN)):\n",
    "        bwaValArray = np.append(bwaValArray, bwaSN[i][1])\n",
    "    \n",
    "    # Filling in data frame\n",
    "    statFrame.loc[bwaSample] = bwaValArray"
   ]
  },
  {
   "cell_type": "markdown",
   "metadata": {},
   "source": [
    "# Save data frame to csv file for plotting in R"
   ]
  },
  {
   "cell_type": "code",
   "execution_count": 57,
   "metadata": {},
   "outputs": [],
   "source": [
    "outPath = os.path.abspath('../../analysis/alignment_data_markeddup/summary_table.csv')\n",
    "statFrame.to_csv(outPath)"
   ]
  }
 ],
 "metadata": {
  "kernelspec": {
   "display_name": "Python 3",
   "language": "python",
   "name": "python3"
  },
  "language_info": {
   "codemirror_mode": {
    "name": "ipython",
    "version": 3
   },
   "file_extension": ".py",
   "mimetype": "text/x-python",
   "name": "python",
   "nbconvert_exporter": "python",
   "pygments_lexer": "ipython3",
   "version": "3.6.9"
  }
 },
 "nbformat": 4,
 "nbformat_minor": 4
}
