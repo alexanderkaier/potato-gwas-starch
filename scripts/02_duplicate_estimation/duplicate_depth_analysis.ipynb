{
 "cells": [
  {
   "cell_type": "code",
   "execution_count": 1,
   "metadata": {},
   "outputs": [],
   "source": [
    "import re\n",
    "import os\n",
    "import pysam\n",
    "import subprocess\n",
    "import numpy as np\n",
    "import pandas as pd\n",
    "from pprint import pprint"
   ]
  },
  {
   "cell_type": "code",
   "execution_count": null,
   "metadata": {},
   "outputs": [],
   "source": [
    "twd = os.path.abspath(\"../../data/alignment_data_markeddup/bwa-mem/samtools/Sample_P1-A01-001-AD/Sample_P1-A01-001-AD_coord_sorted_markeddup.bam\")\n",
    "print(twd)"
   ]
  },
  {
   "cell_type": "code",
   "execution_count": 3,
   "metadata": {},
   "outputs": [],
   "source": [
    "df = pd.DataFrame([x.split('\\t') for x in pysam.depth(twd).split('\\n')])"
   ]
  },
  {
   "cell_type": "code",
   "execution_count": null,
   "metadata": {},
   "outputs": [],
   "source": [
    "rem = os.path.abspath(\"../../data/alignment_data_markeddup/bwa-mem/samtools/Sample_P1-A01-001-AD/Sample_P1-A01-001-AD_coord_sorted_removeddup.bam\")\n",
    "print(twd)\n",
    "dfrem = pd.DataFrame([x.split('\\t') for x in pysam.depth(rem).split('\\n')])"
   ]
  }
 ],
 "metadata": {
  "kernelspec": {
   "display_name": "Python 3",
   "language": "python",
   "name": "python3"
  },
  "language_info": {
   "codemirror_mode": {
    "name": "ipython",
    "version": 3
   },
   "file_extension": ".py",
   "mimetype": "text/x-python",
   "name": "python",
   "nbconvert_exporter": "python",
   "pygments_lexer": "ipython3",
   "version": "3.6.9"
  }
 },
 "nbformat": 4,
 "nbformat_minor": 4
}
