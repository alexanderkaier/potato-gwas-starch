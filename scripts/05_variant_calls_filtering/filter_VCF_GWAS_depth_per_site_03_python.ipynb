{
 "cells": [
  {
   "cell_type": "code",
   "execution_count": 1,
   "metadata": {},
   "outputs": [],
   "source": [
    "# importing modules\n",
    "import pathlib\n",
    "import vcf\n",
    "import pandas as pd\n",
    "import numpy as np"
   ]
  },
  {
   "cell_type": "code",
   "execution_count": null,
   "metadata": {},
   "outputs": [],
   "source": [
    "##############################################################################\n",
    "#                                                                            #\n",
    "# Reading the VCF file for filtering out all sites with no genotyped samples #\n",
    "#                                                                            #\n",
    "##############################################################################\n",
    "\n",
    "# Relative input string for the pyVCF module\n",
    "relVcfPathString = \"../../data/variant_calls_GWAS_filtered/freebayes_192_samples_chr01-chr12_SNPs_135-samples_QUAL-30.vcf\"\n",
    "# Turning it into absolute path\n",
    "vcfPathString = pathlib.Path(relVcfPathString)\n",
    "absVcfPath = vcfPathString.resolve(strict=True)\n",
    "absVcfPath = str(absVcfPath)\n",
    "# Reading it as VCF file\n",
    "vcfFile = vcf.Reader(filename=absVcfPath)\n",
    "\n",
    "\n",
    "#####################################################################################\n",
    "#                                                                                   #\n",
    "# Reading the mean read depth file for filtering for non-called sites and max depth #\n",
    "#                                                                                   #\n",
    "#####################################################################################\n",
    "\n",
    "# Relative input string for the pandas module\n",
    "relDepPathString = \"../../analysis/variant_calling_GWAS_SNPS/SNPS_135-samples_QUAL-30.ldepth.mean\"\n",
    "# Turning it into absolute path\n",
    "DepPathString = pathlib.Path(relDepPathString)\n",
    "absDepPath = DepPathString.resolve(strict=True)\n",
    "absDepPath = str(absDepPath)\n",
    "# Reading it as VCF file\n",
    "meanDepthFrame = pd.read_csv(absDepPath, sep=\"\\t\")"
   ]
  },
  {
   "cell_type": "code",
   "execution_count": null,
   "metadata": {},
   "outputs": [],
   "source": [
    "#########################################################\n",
    "#                                                       #\n",
    "# Creating output file for max. depth filtered variants #\n",
    "#                                                       #\n",
    "#########################################################\n",
    "\n",
    "# Relative input string for the pyVCF module\n",
    "relVcfOutPathString = \"../../data/variant_calls_GWAS_filtered/freebayes_192_samples_chr01-chr12_SNPs_135-samples_QUAL-30_MaxDepth.vcf\"\n",
    "# Turning it into absolute path\n",
    "vcfOutPathString = pathlib.Path(relVcfOutPathString)\n",
    "absVcfOutPath = vcfOutPathString.resolve(strict=True)\n",
    "absVcfOutPath = str(absVcfOutPath)\n",
    "# Creating the output object using the output string\n",
    "vcfOutFile = vcf.Writer(open(absVcfOutPath, 'w'), vcfFile)\n"
   ]
  },
  {
   "cell_type": "code",
   "execution_count": null,
   "metadata": {},
   "outputs": [],
   "source": [
    "#####################################################################################\n",
    "#                                                                                   #\n",
    "# Actual filtering and writing variants that passed to the  #\n",
    "#                                                                                   #\n",
    "#####################################################################################\n",
    "\n",
    "# Filtering the SNPs according to the formula Depth <= \n",
    "for i in range(meanDepthFrame.shape[0]):\n",
    "    threshold = meanDepthFrame['MEAN_DEPTH'][i] + 4 * np.sqrt(meanDepthFrame['MEAN_DEPTH'][i]) \n",
    "    rec = next(vcfFile)\n",
    "    passed = rec.INFO['DP'] <= threshold\n",
    "    # Writing selected variant either to stdout or output file, if specified\n",
    "    if passed:\n",
    "        vcfOutFile.write_record(rec)"
   ]
  }
 ],
 "metadata": {
  "kernelspec": {
   "display_name": "Python 3",
   "language": "python",
   "name": "python3"
  },
  "language_info": {
   "codemirror_mode": {
    "name": "ipython",
    "version": 3
   },
   "file_extension": ".py",
   "mimetype": "text/x-python",
   "name": "python",
   "nbconvert_exporter": "python",
   "pygments_lexer": "ipython3",
   "version": "3.6.9"
  }
 },
 "nbformat": 4,
 "nbformat_minor": 4
}
