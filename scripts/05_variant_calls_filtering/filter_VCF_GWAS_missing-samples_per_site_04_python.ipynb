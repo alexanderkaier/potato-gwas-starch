{
 "cells": [
  {
   "cell_type": "code",
   "execution_count": null,
   "metadata": {},
   "outputs": [],
   "source": [
    "# importing modules\n",
    "import pathlib\n",
    "import vcf\n",
    "import pandas as pd\n",
    "import numpy as np\n",
    "from collections import defaultdict"
   ]
  },
  {
   "cell_type": "code",
   "execution_count": null,
   "metadata": {},
   "outputs": [],
   "source": [
    "##############################################################################\n",
    "#                                                                            #\n",
    "# Reading the VCF file for filtering out all sites with no genotyped samples #\n",
    "#                                                                            #\n",
    "##############################################################################\n",
    "\n",
    "# Relative input string for the pyVCF module\n",
    "relVcfPathString = \"../../data/vcf_GWAS_input/freebayes_192_samples_chr01-chr12_BiSNPs_135-samples_QUAL-30_Depth_HQGenotypes-MissingSamples_SB.vcf\"\n",
    "# Turning it into absolute path\n",
    "vcfPathString = pathlib.Path(relVcfPathString)\n",
    "absVcfPath = vcfPathString.resolve(strict=True)\n",
    "absVcfPath = str(absVcfPath)\n",
    "# Reading it as VCF file\n",
    "vcfFile = vcf.Reader(filename=absVcfPath)\n"
   ]
  },
  {
   "cell_type": "code",
   "execution_count": null,
   "metadata": {},
   "outputs": [],
   "source": [
    "rec = next(vcfFile)"
   ]
  },
  {
   "cell_type": "code",
   "execution_count": null,
   "metadata": {},
   "outputs": [],
   "source": [
    "for sample in rec.samples:\n",
    "    print(sample)"
   ]
  },
  {
   "cell_type": "code",
   "execution_count": null,
   "metadata": {},
   "outputs": [],
   "source": [
    "# Counter for ALT and REF\n",
    "REF=0\n",
    "ALT=0\n",
    "# Checking for the desired qualities in each sample at each site\n",
    "for sample in rec.samples:\n",
    "    if sample.called:\n",
    "        # Check for existence of '0' and '1' alleles\n",
    "        if '0' in sample['GT'].split('/'):\n",
    "            REF+=1\n",
    "        if '1' in sample['GT'].split('/'):\n",
    "            ALT+=1\n",
    "    #print(sample['GT'], REF, ALT)\n",
    "print(REF, ALT)"
   ]
  },
  {
   "cell_type": "code",
   "execution_count": null,
   "metadata": {},
   "outputs": [],
   "source": [
    "'1' in rec.samples[20]['GT'].split('/')"
   ]
  }
 ],
 "metadata": {
  "kernelspec": {
   "display_name": "Python 3",
   "language": "python",
   "name": "python3"
  },
  "language_info": {
   "codemirror_mode": {
    "name": "ipython",
    "version": 3
   },
   "file_extension": ".py",
   "mimetype": "text/x-python",
   "name": "python",
   "nbconvert_exporter": "python",
   "pygments_lexer": "ipython3",
   "version": "3.6.9"
  }
 },
 "nbformat": 4,
 "nbformat_minor": 4
}
