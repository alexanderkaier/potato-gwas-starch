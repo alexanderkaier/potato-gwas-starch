{
 "cells": [
  {
   "cell_type": "code",
   "execution_count": 1,
   "metadata": {},
   "outputs": [],
   "source": [
    "# importing modules\n",
    "import pathlib\n",
    "import vcf\n",
    "import pandas as pd\n",
    "import numpy as np\n",
    "from collections import defaultdict"
   ]
  },
  {
   "cell_type": "code",
   "execution_count": 2,
   "metadata": {},
   "outputs": [],
   "source": [
    "##############################################################################\n",
    "#                                                                            #\n",
    "# Reading the VCF file for filtering out all sites with no genotyped samples #\n",
    "#                                                                            #\n",
    "##############################################################################\n",
    "\n",
    "# Relative input string for the pyVCF module\n",
    "relVcfPathString = \"../../data/variant_calls_GWAS_filtered/freebayes_192_samples_chr01-chr12_SNPs_subset100000.vcf\"\n",
    "# Turning it into absolute path\n",
    "vcfPathString = pathlib.Path(relVcfPathString)\n",
    "absVcfPath = vcfPathString.resolve(strict=True)\n",
    "absVcfPath = str(absVcfPath)\n",
    "# Reading it as VCF file\n",
    "vcfFile = vcf.Reader(filename=absVcfPath)"
   ]
  },
  {
   "cell_type": "code",
   "execution_count": 16,
   "metadata": {},
   "outputs": [],
   "source": [
    "rec = next(vcfFile)"
   ]
  }
 ],
 "metadata": {
  "kernelspec": {
   "display_name": "Python 3",
   "language": "python",
   "name": "python3"
  },
  "language_info": {
   "codemirror_mode": {
    "name": "ipython",
    "version": 3
   },
   "file_extension": ".py",
   "mimetype": "text/x-python",
   "name": "python",
   "nbconvert_exporter": "python",
   "pygments_lexer": "ipython3",
   "version": "3.6.9"
  }
 },
 "nbformat": 4,
 "nbformat_minor": 4
}
