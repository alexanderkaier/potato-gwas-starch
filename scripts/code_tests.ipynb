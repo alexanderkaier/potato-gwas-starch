{
 "cells": [
  {
   "cell_type": "code",
   "execution_count": null,
   "metadata": {},
   "outputs": [],
   "source": [
    "import re\n",
    "from pprint import pprint\n",
    "from fastqcparser import FastQCParser"
   ]
  },
  {
   "cell_type": "code",
   "execution_count": null,
   "metadata": {},
   "outputs": [],
   "source": [
    "f_initial = FastQCParser('../data/initial_seqs/Sample_P1-A01-001-AD/P1-A01-001-AD_R1_clipped_passed-re-filter_fastqc/fastqc_data.txt')\n",
    "f_trimmed = FastQCParser('../analysis/trimmed_seqs/Sample_P1-A01-001-AD/P1-A01-001-AD_R1_clipped_passed-re-filter_clean30_fastqc.zip')"
   ]
  },
  {
   "cell_type": "code",
   "execution_count": null,
   "metadata": {},
   "outputs": [],
   "source": [
    "pprint(f_initial.modules['Basic Statistics'])\n",
    "pprint(f_trimmed.modules['Basic Statistics'])"
   ]
  },
  {
   "cell_type": "code",
   "execution_count": null,
   "metadata": {},
   "outputs": [],
   "source": [
    "# Number of sequences before trimming with bbduk and afterwards\n",
    "print(f_initial.modules['Basic Statistics']['data'][3][1])\n",
    "print(f_trimmed.modules['Basic Statistics']['data'][3][1])"
   ]
  },
  {
   "cell_type": "code",
   "execution_count": null,
   "metadata": {},
   "outputs": [],
   "source": [
    "pprint(f_initial.modules['Per sequence quality scores'])\n",
    "print('\\n')\n",
    "pprint(f_trimmed.modules['Per sequence quality scores'])"
   ]
  }
 ],
 "metadata": {
  "kernelspec": {
   "display_name": "Python 3",
   "language": "python",
   "name": "python3"
  },
  "language_info": {
   "codemirror_mode": {
    "name": "ipython",
    "version": 3
   },
   "file_extension": ".py",
   "mimetype": "text/x-python",
   "name": "python",
   "nbconvert_exporter": "python",
   "pygments_lexer": "ipython3",
   "version": "3.6.9"
  }
 },
 "nbformat": 4,
 "nbformat_minor": 4
}
