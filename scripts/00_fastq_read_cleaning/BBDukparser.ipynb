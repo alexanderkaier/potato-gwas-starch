{
 "cells": [
  {
   "cell_type": "code",
   "execution_count": 2,
   "metadata": {},
   "outputs": [],
   "source": [
    "import re\n",
    "import os\n",
    "import pysam\n",
    "import subprocess\n",
    "import numpy as np\n",
    "import pandas as pd\n",
    "from collections import OrderedDict\n",
    "from pprint import pprint"
   ]
  },
  {
   "cell_type": "markdown",
   "metadata": {},
   "source": [
    "## Checking for right trimmed reads"
   ]
  },
  {
   "cell_type": "code",
   "execution_count": 6,
   "metadata": {},
   "outputs": [],
   "source": [
    "def getFilePath(path = '../../analysis/trimmed_seqs'):\n",
    "    '''\n",
    "    This function takes a path, removes the \"here\" path from it and returns a list containing the \n",
    "    absolute path of all 'BBDuk' output files within that path.\n",
    "    '''\n",
    "    # Extracting aligner from path to extract correct stats file later\n",
    "    pathList = []\n",
    "    for root, subfolder, file in os.walk(path):\n",
    "        # Excluding the \"here\" path ('.'). It is important to not execute the script from a path with\n",
    "        # different relative distance to the target path to not fail expected path depth\n",
    "        if root.count(os.sep) == 4:\n",
    "            # Concatenating the sample paths and the samtools stats output file\n",
    "            pathList.append(os.path.join(os.path.abspath(root), 'err-r.txt'))\n",
    "    return pathList"
   ]
  },
  {
   "cell_type": "code",
   "execution_count": null,
   "metadata": {},
   "outputs": [],
   "source": [
    "# Defining paths to stat files\n",
    "trimmedPath = '../../analysis/trimmed_seqs'\n",
    "\n",
    "# Creating a list of absolute paths with 50 entries, one for each sample stat output file\n",
    "trimmedList = getFilePath(path = trimmedPath)\n",
    "valueList = []\n",
    "# Looping over files and extracting summary statistics\n",
    "for i in range(len(trimmedList)):\n",
    "    \n",
    "    # Extracting summary statistics\n",
    "    trimmedSN = subprocess.check_output(['grep ^Total {} | cut -f 2-'.format(trimmedList[i])], shell=True) # Extracting summary data for whole alignment\n",
    "    trimmedSN = trimmedSN.decode('utf-8') # Decoding byte string into UTF-8 character string\n",
    "    trimmedSN = trimmedSN.split('\\n')\n",
    "    #trimmedSN = trimmedSN.split(' ')\n",
    "    del(trimmedSN[-1])\n",
    "    trimmedSN = trimmedSN[0]\n",
    "    valueList.append(trimmedSN[11:15])\n",
    "    #for j in range(len(trimmedSN)):\n",
    "    #    trimmedSN[j] = trimmedSN[j].split(' ')\n",
    "    #    pprint(trimmedSN)\n",
    "#print(valueList)"
   ]
  },
  {
   "cell_type": "code",
   "execution_count": 80,
   "metadata": {},
   "outputs": [],
   "source": [
    "for i in range(len(valueList)):\n",
    "    valueList[i] = float(valueList[i])\n",
    "myarray = np.array(valueList)"
   ]
  },
  {
   "cell_type": "markdown",
   "metadata": {},
   "source": [
    "## Checking for left trimmed reads"
   ]
  },
  {
   "cell_type": "code",
   "execution_count": 82,
   "metadata": {},
   "outputs": [],
   "source": [
    "def getFilePath(path = '../../analysis/trimmed_seqs'):\n",
    "    '''\n",
    "    This function takes a path, removes the \"here\" path from it and returns a list containing the \n",
    "    absolute path of all 'BBDuk' output files within that path.\n",
    "    '''\n",
    "    # Extracting aligner from path to extract correct stats file later\n",
    "    pathList = []\n",
    "    for root, subfolder, file in os.walk(path):\n",
    "        # Excluding the \"here\" path ('.'). It is important to not execute the script from a path with\n",
    "        # different relative distance to the target path to not fail expected path depth\n",
    "        if root.count(os.sep) == 4:\n",
    "            # Concatenating the sample paths and the samtools stats output file\n",
    "            pathList.append(os.path.join(os.path.abspath(root), 'err-b.txt'))\n",
    "    return pathList"
   ]
  },
  {
   "cell_type": "code",
   "execution_count": null,
   "metadata": {},
   "outputs": [],
   "source": [
    "# Defining paths to stat files\n",
    "trimmedPath = '../../analysis/trimmed_seqs'\n",
    "\n",
    "# Creating a list of absolute paths with 50 entries, one for each sample stat output file\n",
    "trimmedList = getFilePath(path = trimmedPath)\n",
    "valueList = []\n",
    "# Looping over files and extracting summary statistics\n",
    "for i in range(len(trimmedList)):\n",
    "    \n",
    "    # Extracting summary statistics\n",
    "    # bwa mem alignment stat file summary\n",
    "    trimmedSN = subprocess.check_output(['grep ^Total {} | cut -f 2-'.format(trimmedList[i])], shell=True) # Extracting summary data for whole alignment\n",
    "    trimmedSN = trimmedSN.decode('utf-8') # Decoding byte string into UTF-8 character string\n",
    "    trimmedSN = trimmedSN.split('\\n')\n",
    "    #trimmedSN = trimmedSN.split(' ')\n",
    "    del(trimmedSN[-1])\n",
    "    trimmedSN = trimmedSN[0]\n",
    "    valueList.append(trimmedSN[9:13])\n",
    "    #for j in range(len(trimmedSN)):\n",
    "    #    trimmedSN[j] = trimmedSN[j].split(' ')\n",
    "    #    pprint(trimmedSN)\n",
    "#print(valueList)"
   ]
  },
  {
   "cell_type": "code",
   "execution_count": 88,
   "metadata": {},
   "outputs": [],
   "source": [
    "for i in range(len(valueList)):\n",
    "    valueList[i] = float(valueList[i])\n",
    "myarray = np.array(valueList)"
   ]
  },
  {
   "cell_type": "markdown",
   "metadata": {},
   "source": [
    "## Checking for quality trimmed reads"
   ]
  },
  {
   "cell_type": "code",
   "execution_count": 28,
   "metadata": {},
   "outputs": [],
   "source": [
    "def getFilePath(path = '../../analysis/trimmed_seqs'):\n",
    "    '''\n",
    "    This function takes a path, removes the \"here\" path from it and returns a list containing the \n",
    "    absolute path of all 'BBDuk' output files within that path.\n",
    "    '''\n",
    "    # Extracting aligner from path to extract correct stats file later\n",
    "    pathList = []\n",
    "    for root, subfolder, file in os.walk(path):\n",
    "        # Excluding the \"here\" path ('.'). It is important to not execute the script from a path with\n",
    "        # different relative distance to the target path to not fail expected path depth\n",
    "        if root.count(os.sep) == 4:\n",
    "            # Concatenating the sample paths and the samtools stats output file\n",
    "            pathList.append(os.path.join(os.path.abspath(root), 'err-c.txt'))\n",
    "    return pathList"
   ]
  },
  {
   "cell_type": "code",
   "execution_count": null,
   "metadata": {},
   "outputs": [],
   "source": [
    "# Defining paths to stat files\n",
    "trimmedPath = '../../analysis/trimmed_seqs'\n",
    "\n",
    "# Creating a list of absolute paths with 50 entries, one for each sample stat output file\n",
    "trimmedList = getFilePath(path = trimmedPath)\n",
    "valueList = []\n",
    "# Looping over files and extracting summary statistics\n",
    "for i in range(len(trimmedList)):\n",
    "    \n",
    "    # Extracting summary statistics\n",
    "    # bwa mem alignment stat file summary\n",
    "    trimmedSN = subprocess.check_output(['grep ^Total {} | cut -f 2-'.format(trimmedList[i])], shell=True) # Extracting summary data for whole alignment\n",
    "    trimmedSN = trimmedSN.decode('utf-8') # Decoding byte string into UTF-8 character string\n",
    "    trimmedSN = trimmedSN.split('\\n')\n",
    "    #trimmedSN = trimmedSN.split(' ')\n",
    "    del(trimmedSN[-1])\n",
    "    trimmedSN = trimmedSN[0]\n",
    "    pprint(trimmedSN)\n",
    "    valueList.append(trimmedSN[14:18])\n",
    "    #for j in range(len(trimmedSN)):\n",
    "    #    trimmedSN[j] = trimmedSN[j].split(' ')\n",
    "    #    pprint(trimmedSN)\n",
    "    \"\"\"\n",
    "    # Extracting specific values \n",
    "    bwaValArray = np.array([])\n",
    "    for i in range(len(bwaSN)):\n",
    "        bwaValArray = np.append(bwaValArray, bwaSN[i][1])\n",
    "    \n",
    "    # Filling in the array\n",
    "    \"\"\""
   ]
  },
  {
   "cell_type": "code",
   "execution_count": 68,
   "metadata": {},
   "outputs": [],
   "source": [
    "for i in range(len(valueList)):\n",
    "    valueList[i] = float(valueList[i])\n",
    "myarray = np.array(valueList)"
   ]
  },
  {
   "cell_type": "code",
   "execution_count": 104,
   "metadata": {},
   "outputs": [],
   "source": [
    "def BBDukDic(file_path):\n",
    "    '''\n",
    "    This function takes the .txt file created by the 'stats' argument of BBDuk and creates an ordered dictionary\n",
    "    containing the following items in the here displayed order. The values are lists:\n",
    "    'File':[input file(s)]\n",
    "    'Total':[Combined number of reads in all input files]\n",
    "    'Matched':[Total number of matched reads by BBDuk filer, Percentage of total matched reads]\n",
    "    'Adapter_name':[Total number of matched reads by BBDuk filter, Percentage of total matched reads]\n",
    "    \n",
    "    The entries for adapters appear only if the filtered sequence was trimmed using the BBDuk arguments\n",
    "    'ktrim' in combination with a reference fasta file referred to by the argument 'ref'.\n",
    "    \n",
    "    This function is only tentative and will most certainly not catch all output of BBDuk, when executed with\n",
    "    here unused arguments, in a proper way.\n",
    "    '''\n",
    "    dic = OrderedDict()\n",
    "    for line in open(f_path):\n",
    "        line = line[1:] # Truncating the leading '#'\n",
    "        line = re.sub('[%#]', '', line) # Removing tailing '%'\n",
    "        raw = line.split() # Splitting line at all whitespaces into a list of words\n",
    "        dic[raw[0]] = raw[1:] # Every keyword in one line followed by a list of values it represents\n",
    "    del dic['Name']\n",
    "    return dic"
   ]
  }
 ],
 "metadata": {
  "kernelspec": {
   "display_name": "Python 3",
   "language": "python",
   "name": "python3"
  },
  "language_info": {
   "codemirror_mode": {
    "name": "ipython",
    "version": 3
   },
   "file_extension": ".py",
   "mimetype": "text/x-python",
   "name": "python",
   "nbconvert_exporter": "python",
   "pygments_lexer": "ipython3",
   "version": "3.6.9"
  }
 },
 "nbformat": 4,
 "nbformat_minor": 4
}
