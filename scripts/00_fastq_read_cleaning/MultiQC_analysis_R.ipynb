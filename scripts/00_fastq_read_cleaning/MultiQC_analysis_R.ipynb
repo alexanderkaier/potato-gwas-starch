{
 "cells": [
  {
   "cell_type": "code",
   "execution_count": null,
   "metadata": {},
   "outputs": [],
   "source": [
    "library(tidyverse)\n",
    "library(cowplot)\n",
    "library(here)"
   ]
  },
  {
   "cell_type": "markdown",
   "metadata": {},
   "source": [
    "## Loading multiQC statistics"
   ]
  },
  {
   "cell_type": "code",
   "execution_count": null,
   "metadata": {},
   "outputs": [],
   "source": [
    "# Input path for raw and trimmed summary statistics files\n",
    "# First for the raw reads\n",
    "mRIP = here('analysis', 'raw_seqs', 'multiqc_data', 'multiqc_fastqc.txt')\n",
    "genRIP = here('analysis', 'raw_seqs', 'multiqc_data', 'multiqc_general_stats.txt')\n",
    "# Then for the filtered reads\n",
    "mTIP = here('analysis', 'trimmed_seqs', 'multiqc_data', 'multiqc_fastqc.txt')\n",
    "genTIP = here('analysis', 'trimmed_seqs', 'multiqc_data', 'multiqc_general_stats.txt')"
   ]
  },
  {
   "cell_type": "code",
   "execution_count": null,
   "metadata": {},
   "outputs": [],
   "source": [
    "rawDat = read_tsv(mRIP)\n",
    "trimDat = read_tsv(mTIP)"
   ]
  },
  {
   "cell_type": "code",
   "execution_count": null,
   "metadata": {},
   "outputs": [],
   "source": [
    "rawDatGen = read_tsv(genRIP)\n",
    "trimDatGen = read_tsv(genTIP)"
   ]
  },
  {
   "cell_type": "code",
   "execution_count": null,
   "metadata": {},
   "outputs": [],
   "source": [
    "# Creating columns in both data frames for minimum and maximum read length distribution\n",
    "rawDat[\"min_length\"] = as.numeric(substr(rawDat$`Sequence length`,1,2))\n",
    "rawDat[\"max_length\"] = as.numeric(substr(rawDat$`Sequence length`,4,6))\n",
    "trimDat[\"min_length\"] = as.numeric(substr(trimDat$`Sequence length`,1,2))\n",
    "trimDat[\"max_length\"] = as.numeric(substr(trimDat$`Sequence length`,4,6))"
   ]
  },
  {
   "cell_type": "code",
   "execution_count": null,
   "metadata": {},
   "outputs": [],
   "source": [
    "#rawDat[\"min_length\"] = rawDat$`Sequence length`\n",
    "#mean(rawDat$avg_sequence_length); median(rawDat$avg_sequence_length); sd(rawDat$avg_sequence_length)\n",
    "#mean(trimDat$avg_sequence_length); sd(trimDat$avg_sequence_length)\n",
    "#mean(trimDat$avg_sequence_length)/mean(rawDat$avg_sequence_length)"
   ]
  },
  {
   "cell_type": "code",
   "execution_count": null,
   "metadata": {},
   "outputs": [],
   "source": [
    "# Cchecking basic statistics of reads\n",
    "#mean(rawDat$min_length); sd(rawDat$min_length)\n",
    "#mean(rawDat$max_length); sd(rawDat$max_length)\n",
    "#mean(trimDat$min_length); sd(trimDat$min_length)\n",
    "#mean(trimDat$max_length); sd(trimDat$max_length)"
   ]
  },
  {
   "cell_type": "code",
   "execution_count": null,
   "metadata": {},
   "outputs": [],
   "source": [
    "# Checking the ECDFs\n",
    "#rawCDF = ecdf(rawDat$min_length)\n",
    "#rawCDF(35)"
   ]
  },
  {
   "cell_type": "code",
   "execution_count": null,
   "metadata": {},
   "outputs": [],
   "source": [
    "#sum(rawDat$`Total Sequences`)"
   ]
  },
  {
   "cell_type": "code",
   "execution_count": null,
   "metadata": {},
   "outputs": [],
   "source": [
    "# Average number of reads per sample for raw and trimmed reads\n",
    "#mean(rawDat$`Total Sequences`) * 2\n",
    "#mean(trimDat$`Total Sequences`) * 2\n",
    "# Average amount of removed reads per sample\n",
    "#difference = (mean(rawDat$`Total Sequences`) * 2) - (mean(trimDat$`Total Sequences`)) * 2; difference\n",
    "# Percentage of removed reads per sample\n",
    "#difference / (mean(rawDat$`Total Sequences`) * 2)"
   ]
  },
  {
   "cell_type": "code",
   "execution_count": null,
   "metadata": {},
   "outputs": [],
   "source": [
    "#mean(rawDat$avg_sequence_length)\n",
    "#median(rawDat$avg_sequence_length)\n",
    "#shapiro.test(rawDat$avg_sequence_length)\n",
    "#mean(trimDat$avg_sequence_length)\n",
    "#median(trimDat$avg_sequence_length)\n",
    "#shapiro.test(trimDat$avg_sequence_length)"
   ]
  },
  {
   "cell_type": "code",
   "execution_count": null,
   "metadata": {},
   "outputs": [],
   "source": [
    "#str(rawDat)\n",
    "#str(trimDat)"
   ]
  },
  {
   "cell_type": "code",
   "execution_count": null,
   "metadata": {},
   "outputs": [],
   "source": [
    "#str(rawDatGen)\n",
    "#str(trimDatGen)"
   ]
  }
 ],
 "metadata": {
  "kernelspec": {
   "display_name": "R",
   "language": "R",
   "name": "ir"
  },
  "language_info": {
   "codemirror_mode": "r",
   "file_extension": ".r",
   "mimetype": "text/x-r-source",
   "name": "R",
   "pygments_lexer": "r",
   "version": "3.6.3"
  }
 },
 "nbformat": 4,
 "nbformat_minor": 4
}
