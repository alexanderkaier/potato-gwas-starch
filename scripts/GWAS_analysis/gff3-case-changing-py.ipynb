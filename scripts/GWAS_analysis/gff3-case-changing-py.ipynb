{
 "cells": [
  {
   "cell_type": "code",
   "execution_count": null,
   "metadata": {},
   "outputs": [],
   "source": [
    "import collections\n",
    "import pandas as pd\n",
    "import pathlib\n",
    "import csv\n",
    "import os\n",
    "import gffpandas.gffpandas as gffpd"
   ]
  },
  {
   "cell_type": "code",
   "execution_count": null,
   "metadata": {},
   "outputs": [],
   "source": [
    "# In- and output file paths for the conversion\n",
    "inPath = \"../../data/Reference_genome_and_annotation_file/PGSC_DM_V403_genes.gff\"\n",
    "outPath = \"../../data/Reference_genome_and_annotation_file/PGSC_DM_V403_genes_prepared.gff\"\n",
    "\n",
    "# Create absolute path to read the file\n",
    "absInPath = os.path.abspath(inPath)"
   ]
  },
  {
   "cell_type": "code",
   "execution_count": null,
   "metadata": {},
   "outputs": [],
   "source": [
    "# Create list of official GFF3 atrtributes from https://www.ncbi.nlm.nih.gov/datasets/docs/about-ncbi-gff3/\n",
    "# This is needed to check for invalid cases in the input file\n",
    "offList = ['ID', 'Parent', 'Dbxref', 'Name', 'Note', 'Is_circular']"
   ]
  },
  {
   "cell_type": "code",
   "execution_count": null,
   "metadata": {},
   "outputs": [],
   "source": [
    "# Checking\n",
    "attrList = rec0['attributes'].split(';')\n",
    "for i in range(len(attrList)):\n",
    "    # Check, if the attributes are in the list of official ones or not. If so, uppercase the keys first letter, otherwise lowercase it\n",
    "    attrKey = attrList[i].split('=')[0]\n",
    "    if attrKey.upper() in (item.upper() for item in offList) and attrKey[0].islower():\n",
    "        dummy = attrKey[0].upper() + attrKey[1:]\n",
    "        attrList[i] = dummy + '=' + attrList[i].split('=')[1]\n",
    "    elif attrKey.upper() not in (item.upper() for item in offList) and attrKey[0].isupper():\n",
    "        dummy = attrKey[0].lower() + attrKey[1:]\n",
    "        attrList[i] = dummy + '=' + attrList[i].split('=')[1]\n",
    "newAttrList = ';'.join(attrList)"
   ]
  },
  {
   "cell_type": "code",
   "execution_count": null,
   "metadata": {},
   "outputs": [],
   "source": [
    "rawFile.df.iloc[255860:255870,:]['attributes'] = rawFile.df.iloc[255860:255870,:]['attributes'].apply(lambda attrString: attrChange(attrString))"
   ]
  },
  {
   "cell_type": "code",
   "execution_count": null,
   "metadata": {},
   "outputs": [],
   "source": [
    "#dummyColumn = rawFile.df.loc[255860:255870,:]['attributes'].apply(lambda attrString: attrChange(attrString))\n",
    "rawFile.df.iloc[255860:255870,8] = rawFile.df.iloc[255860:255870,8].apply(lambda attrString: attrChange(attrString))"
   ]
  },
  {
   "cell_type": "code",
   "execution_count": null,
   "metadata": {},
   "outputs": [],
   "source": [
    "rawFile = gffpd.read_gff3(absInPath)"
   ]
  },
  {
   "cell_type": "code",
   "execution_count": null,
   "metadata": {},
   "outputs": [],
   "source": [
    "def attrChange(attrString):\n",
    "    # Create list of official GFF3 atrtributes from https://www.ncbi.nlm.nih.gov/datasets/docs/about-ncbi-gff3/\n",
    "    # This is needed to check for invalid cases in the input file\n",
    "    offList = ['ID', 'Parent', 'Dbxref', 'Name', 'Note', 'Is_circular']\n",
    "    attrList = attrString.split(';')\n",
    "    # Check for idiotic sepearation of values within the ';'-separated list\n",
    "    ''' # Commented out because 'gff3ToGenePred' can't handle multiple names per annotation\n",
    "    for j in range(len(attrList)):\n",
    "        if '=' not in attrList[j]:\n",
    "            attrList[j-1] = attrList[j-1] + ';' + attrList[j]\n",
    "    ''' \n",
    "    print(attrList)\n",
    "    dummyList = attrList\n",
    "    print(len(dummyList))\n",
    "    for element in dummyList:\n",
    "        # Remove second names from the attribute list\n",
    "        print('=' in element, element)\n",
    "        print(element in attrList)\n",
    "        if '=' not in element:\n",
    "            attrList.remove(element)\n",
    "    dummyList = attrList\n",
    "    print(len(dummyList))\n",
    "    for element in dummyList:\n",
    "        # Remove second names from the attribute list\n",
    "        print('=' in element, element)\n",
    "        print(element in attrList)\n",
    "        if '=' not in element:\n",
    "            attrList.remove(element)\n",
    "    print(f'{attrList} after removing elements without \"=\"')\n",
    "        # Check for name values and replace ',' with ' '\n",
    "    for i in range(len(attrList)):\n",
    "        subList = attrList[i].split('=')\n",
    "        print(subList)\n",
    "        if subList[0].upper() == 'NAME':\n",
    "            subList[1] = subList[1].replace(',', ' ')\n",
    "            # Stitching the element back together, but now without ',' in the name value field\n",
    "            attrList[i] = '='.join(subList)\n",
    "    for i in range(len(attrList)):\n",
    "        # Extract the key from each individual annotation\n",
    "        attrKey = attrList[i].split('=')[0]\n",
    "        # Check, if the attributes are in the list of official ones or not. If so, uppercase the keys first letter, otherwise lowercase it\n",
    "        if attrKey.upper() in (item.upper() for item in offList) and attrKey[0].islower():\n",
    "            dummy = attrKey[0].upper() + attrKey[1:]\n",
    "            attrList[i] = dummy + '=' + attrList[i].split('=')[1]\n",
    "        elif attrKey.upper() not in (item.upper() for item in offList) and attrKey[0].isupper():\n",
    "            dummy = attrKey[0].lower() + attrKey[1:]\n",
    "            attrList[i] = dummy + '=' + attrList[i].split('=')[1]\n",
    "    newAttrString = ';'.join(map(str, attrList))\n",
    "    return newAttrString"
   ]
  },
  {
   "cell_type": "code",
   "execution_count": null,
   "metadata": {},
   "outputs": [],
   "source": [
    "rawFile.df.iloc[10965:10975,8] = rawFile.df.iloc[10965:10975,8].apply(lambda attrString: attrChange(attrString))"
   ]
  },
  {
   "cell_type": "code",
   "execution_count": null,
   "metadata": {},
   "outputs": [],
   "source": [
    "imp = ['ID=PGSC0003DMG400019851', 'name=\"RNA-directed DNA polymerase (Reverse transcriptase)', ' Chromo', ' Zinc finger, CCHC-type', ' Peptidase aspartic, active site\"']\n",
    "test = imp\n",
    "for element in test:\n",
    "    print('=' in element)"
   ]
  },
  {
   "cell_type": "code",
   "execution_count": null,
   "metadata": {},
   "outputs": [],
   "source": [
    "rawFile.df.iloc[460:470,8]"
   ]
  },
  {
   "cell_type": "code",
   "execution_count": null,
   "metadata": {},
   "outputs": [],
   "source": [
    "dummyFrame"
   ]
  },
  {
   "cell_type": "code",
   "execution_count": null,
   "metadata": {},
   "outputs": [],
   "source": [
    "dummyFrame.iloc[0][8]"
   ]
  },
  {
   "cell_type": "code",
   "execution_count": null,
   "metadata": {},
   "outputs": [],
   "source": [
    "#dummyFrame['attributes'] = dummyFrame['attributes'].apply(lambda attrString: attrChange(attrString))\n",
    "dummyFrame['attributes'].apply(lambda attrString: attrChange(attrString))"
   ]
  },
  {
   "cell_type": "code",
   "execution_count": null,
   "metadata": {},
   "outputs": [],
   "source": [
    "dummyFrame['attributes']"
   ]
  },
  {
   "cell_type": "code",
   "execution_count": null,
   "metadata": {},
   "outputs": [],
   "source": [
    "for entry in dummyFrame.iterrows():\n",
    "    # Create list from annotations column\n",
    "    attrList = entry[1][8].split(';')\n",
    "    # Check for idiotic sepearation of values within the ';'-separated list\n",
    "    for j in range(len(attrList)):\n",
    "        if '=' not in attrList[j]:\n",
    "            attrList[j-1] = attrList[j-1] + ';' + attrList[j]\n",
    "    for element in attrList:\n",
    "        if '=' not in element:\n",
    "            attrList.remove(element)\n",
    "    print(attrList)\n",
    "    for i in range(len(attrList)):\n",
    "        # Extract the key from each individual annotation\n",
    "        attrKey = attrList[i].split('=')[0]\n",
    "        # Check, if the attributes are in the list of official ones or not. If so, uppercase the keys first letter, otherwise lowercase it\n",
    "        if attrKey.upper() in (item.upper() for item in offList) and attrKey[0].islower():\n",
    "            dummy = attrKey[0].upper() + attrKey[1:]\n",
    "            attrList[i] = dummy + '=' + attrList[i].split('=')[1]\n",
    "        elif attrKey.upper() not in (item.upper() for item in offList) and attrKey[0].isupper():\n",
    "            dummy = attrKey[0].lower() + attrKey[1:]\n",
    "            attrList[i] = dummy + '=' + attrList[i].split('=')[1]\n",
    "    newAttrList = ';'.join(attrList)\n",
    "    entry[1][8] = str(newAttrList)\n",
    "    print(entry[1][8])"
   ]
  },
  {
   "cell_type": "code",
   "execution_count": null,
   "metadata": {},
   "outputs": [],
   "source": [
    "for i in range(rawFile.df.shape[0]):\n",
    "    dummy = rawFile.df.loc[i,:]\n",
    "    attrList = dummy['attributes'].split(';')\n",
    "    # Check for idiotic sepearation of values within the ';'-separated list, and append such values to the previous one\n",
    "    for j in range(len(attrList)):\n",
    "        if '=' not in attrList[j]:\n",
    "            attrList[j-1] = attrList[j-1] + ';' + attrList[j]\n",
    "    # Delete the now superflous element after appending the previous one by it\n",
    "    for element in attrList:\n",
    "        if '=' not in element:\n",
    "            attrList.remove(element)\n",
    "    for i in range(len(attrList)):\n",
    "        # Extract the key from each individual annotation\n",
    "        attrKey = attrList[i].split('=')[0]\n",
    "        # Check, if the attributes are in the list of official ones or not. If so, uppercase the keys first letter, otherwise lowercase it\n",
    "        if attrKey.upper() in (item.upper() for item in offList) and attrKey[0].islower():\n",
    "            dummyKey = attrKey[0].upper() + attrKey[1:]\n",
    "            attrList[i] = dummyKey + '=' + attrList[i].split('=')[1]\n",
    "        elif attrKey.upper() not in (item.upper() for item in offList) and attrKey[0].isupper():\n",
    "            dummyKey = attrKey[0].lower() + attrKey[1:]\n",
    "            attrList[i] = dummyKey + '=' + attrList[i].split('=')[1]\n",
    "    newAttrList = ';'.join(attrList)\n",
    "    dummy['attributes'] = newAttrList\n",
    "    rawFile.df.loc[i,:] = dummy"
   ]
  },
  {
   "cell_type": "code",
   "execution_count": null,
   "metadata": {},
   "outputs": [],
   "source": [
    "rawFile.header"
   ]
  },
  {
   "cell_type": "code",
   "execution_count": null,
   "metadata": {},
   "outputs": [],
   "source": [
    "rawFile.df"
   ]
  },
  {
   "cell_type": "code",
   "execution_count": null,
   "metadata": {},
   "outputs": [],
   "source": [
    "#rawFile.df.iloc[1,:][1] = 'teststuff'\n",
    "#rawFile.df.iloc[1,:]\n",
    "testSeries = rawFile.df.loc[1,:]\n",
    "#print(rawFile.df.loc[1,:], '\\n')\n",
    "print(list(testSeries['attributes'])\n",
    "#testSeries['source'] = 'DNA'\n",
    "#print(rawFile.df.loc[1,:])\n",
    "#print(testSeries, '\\n')\n",
    "#rawFile.df.loc[1,:] = testSeries\n",
    "#print(rawFile.df.loc[1,:])"
   ]
  },
  {
   "cell_type": "code",
   "execution_count": null,
   "metadata": {},
   "outputs": [],
   "source": [
    "for i in range(rawFile.df.iloc[1:10,:].shape[0]):\n",
    "    print(rawFile.df.iloc[i,:])"
   ]
  },
  {
   "cell_type": "code",
   "execution_count": null,
   "metadata": {},
   "outputs": [],
   "source": [
    "rawFile.df.iloc[1:10,:].shape[0]"
   ]
  },
  {
   "cell_type": "code",
   "execution_count": null,
   "metadata": {},
   "outputs": [],
   "source": [
    "rawFile.df"
   ]
  }
 ],
 "metadata": {
  "kernelspec": {
   "display_name": "Python 3",
   "language": "python",
   "name": "python3"
  },
  "language_info": {
   "codemirror_mode": {
    "name": "ipython",
    "version": 3
   },
   "file_extension": ".py",
   "mimetype": "text/x-python",
   "name": "python",
   "nbconvert_exporter": "python",
   "pygments_lexer": "ipython3",
   "version": "3.6.9"
  }
 },
 "nbformat": 4,
 "nbformat_minor": 4
}
