{
 "cells": [
  {
   "cell_type": "markdown",
   "metadata": {},
   "source": [
    "## Loading the libraries"
   ]
  },
  {
   "cell_type": "code",
   "execution_count": null,
   "metadata": {},
   "outputs": [],
   "source": [
    "library(tidyverse)\n",
    "library(reshape2)\n",
    "library(here)\n",
    "library(readxl)\n",
    "#library(limma)\n",
    "library(multcompView)"
   ]
  },
  {
   "cell_type": "code",
   "execution_count": null,
   "metadata": {},
   "outputs": [],
   "source": [
    "data <- read_excel(here(\"data\", \"Phenotype_data\", \"Screeningdaten.xlsx\"))\n",
    "sampleNames <- read_excel(here(\"data\", \"Phenotype_data\", \"22-01-2021_Zuordnung_genotypes_SB.aktualisiert.xlsx\"))"
   ]
  },
  {
   "cell_type": "code",
   "execution_count": null,
   "metadata": {},
   "outputs": [],
   "source": [
    "# Only taking the data for which we have unique identifier of genotyped samples in the 'sampleNames'\n",
    "data <- data[1:191,]\n",
    "sampleNames <- sampleNames[1:189,c(1,5)]"
   ]
  },
  {
   "cell_type": "code",
   "execution_count": null,
   "metadata": {},
   "outputs": [],
   "source": [
    "# Deleting rows from the data with unmeasured phenotype, for matching the sample identifier\n",
    "data <- data[-c(139,156), ]"
   ]
  },
  {
   "cell_type": "code",
   "execution_count": null,
   "metadata": {},
   "outputs": [],
   "source": [
    "dim(data)\n",
    "dim(sampleNames)"
   ]
  },
  {
   "cell_type": "code",
   "execution_count": null,
   "metadata": {},
   "outputs": [],
   "source": [
    "# Specifying different data frames to concatenate when desired\n",
    "commonData <- data[1:12] # Data common to all measured traits\n",
    "dataStarch <- data[53:ncol(data)] # Data concerning the starch content at day 14\n",
    "# new column names for the data frame dataStarch\n",
    "newColNamesStarch <- c('CR1', 'CR2', 'CR3', 'CR4', 'MW_C', 'SD_C', 'HR1', 'HR2', 'HR3', 'HR4', 'MW_H', 'SD_H', 'ttest_HC', 'HdC_perc', 'Trait')\n",
    "colnames(dataStarch) <- newColNamesStarch"
   ]
  },
  {
   "cell_type": "code",
   "execution_count": null,
   "metadata": {},
   "outputs": [],
   "source": [
    "# Appending the common data by the identifier for the GWAS\n",
    "commonData <- merge(commonData, sampleNames, by = \"Nr\")"
   ]
  },
  {
   "cell_type": "code",
   "execution_count": null,
   "metadata": {},
   "outputs": [],
   "source": [
    "commonData"
   ]
  },
  {
   "cell_type": "code",
   "execution_count": null,
   "metadata": {},
   "outputs": [],
   "source": [
    "# Separating the starch data into heat and control and calculate average of all observed data points for each category\n",
    "dataStarchControl <- dataStarch %>%\n",
    "    select(CR1, CR2, CR3, CR4)\n",
    "dataStarchControl <- dataStarchControl %>% \n",
    "    mutate(CR = rowMeans(select(., starts_with(\"CR\")), na.rm = TRUE))\n",
    "\n",
    "dataStarchHeat <- dataStarch %>%\n",
    "    select(HR1, HR2, HR3, HR4)\n",
    "dataStarchHeat <- dataStarchHeat %>% \n",
    "    mutate(HR = rowMeans(select(., starts_with(\"HR\")), na.rm = TRUE))"
   ]
  },
  {
   "cell_type": "code",
   "execution_count": null,
   "metadata": {},
   "outputs": [],
   "source": [
    "dim(dataStarchHeat)\n",
    "dim(dataStarchControl)\n",
    "dim(commonData)"
   ]
  },
  {
   "cell_type": "code",
   "execution_count": null,
   "metadata": {},
   "outputs": [],
   "source": [
    "# Creating a new data frame containing only the necessary columns for the starch content\n",
    "dataStarchNew <- cbind(commonData, dataStarchHeat, dataStarchControl)\n",
    "# Creating percentage ratio of starch concentration for Heat/Control\n",
    "dataStarchNew$Perc <- 100 * (dataStarchNew$HR / dataStarchNew$CR)"
   ]
  },
  {
   "cell_type": "code",
   "execution_count": null,
   "metadata": {},
   "outputs": [],
   "source": [
    "dataStarchNew"
   ]
  },
  {
   "cell_type": "code",
   "execution_count": null,
   "metadata": {},
   "outputs": [],
   "source": [
    "# Selecting only experiments 1 to 4 for GWAS\n",
    "expStarchGwas <- dataStarchNew %>%\n",
    "    filter(Exp. == \"Exp_01\" | Exp. == \"Exp_02\" | Exp. == \"Exp_03\" | Exp. == \"Exp_04\")\n",
    "# Removing rows with NAs in the 'Perc\" column'\n",
    "expStarchGwas <- subset(expStarchGwas, (!is.na(expStarchGwas$Perc)))"
   ]
  },
  {
   "cell_type": "code",
   "execution_count": null,
   "metadata": {},
   "outputs": [],
   "source": [
    "nrow(expStarchGwas)"
   ]
  },
  {
   "cell_type": "code",
   "execution_count": null,
   "metadata": {},
   "outputs": [],
   "source": [
    "#########################\n",
    "#                       #\n",
    "# Tukey HSD for Control #\n",
    "#                       #\n",
    "#########################\n",
    "\n",
    "# Using Tukeys HSD to check for significant differences of means between experiments\n",
    "\n",
    "# First, creating linear model of HR vs. Experiment\n",
    "modelC <- lm(expStarchGwas$CR ~ expStarchGwas$Exp.)\n",
    "ANOVAC <- aov(modelC)\n",
    "\n",
    "# Tukey test to test each pair of experiments\n",
    "TUKEYC <- TukeyHSD(x=ANOVAC, 'expStarchGwas$Exp.', conf.level = 0.95)\n",
    "\n",
    "# Plotting the test result\n",
    "par(mar=c(5.1, 8.1, 4.1, 2.1))\n",
    "plot(TUKEYC, las = 1, col = 'brown')\n",
    "\n",
    "\n",
    "######################\n",
    "#                    #\n",
    "# Tukey HSD for Heat #\n",
    "#                    #\n",
    "######################\n",
    "\n",
    "# Using Tukeys HSD to check for significant differences of means between experiments\n",
    "\n",
    "# First, creating linear model of HR vs. Experiment\n",
    "modelH <- lm(expStarchGwas$HR ~ expStarchGwas$Exp.)\n",
    "ANOVAH <- aov(modelH)\n",
    "\n",
    "# Tukey test to test each pair of experiments\n",
    "TUKEYH <- TukeyHSD(x=ANOVAH, 'expStarchGwas$Exp.', conf.level = 0.95)\n",
    "\n",
    "# Plotting the test result\n",
    "par(mar=c(5.1, 8.1, 4.1, 2.1))\n",
    "plot(TUKEYH, las = 1, col = 'brown')\n",
    "\n",
    "###################################################\n",
    "#                                                 #\n",
    "# Tukey HSD for the percent ratio of Heat/Control #\n",
    "#                                                 #\n",
    "###################################################\n",
    "\n",
    "# Using Tukeys HSD to check for significant differences of means between experiments\n",
    "\n",
    "# First, creating linear model of HR vs. Experiment\n",
    "modelP <- lm(expStarchGwas$Perc ~ expStarchGwas$Exp.)\n",
    "ANOVAP <- aov(modelP)\n",
    "\n",
    "# Tukey test to test each pair of experiments\n",
    "TUKEYP <- TukeyHSD(x=ANOVAP, 'expStarchGwas$Exp.', conf.level = 0.95)\n",
    "\n",
    "# Plotting the test result\n",
    "par(mar=c(5.1, 8.1, 4.1, 2.1))\n",
    "plot(TUKEYP, las = 1, col = 'brown')"
   ]
  },
  {
   "cell_type": "code",
   "execution_count": null,
   "metadata": {},
   "outputs": [],
   "source": [
    "summary(ANOVAP)"
   ]
  },
  {
   "cell_type": "code",
   "execution_count": null,
   "metadata": {},
   "outputs": [],
   "source": [
    "# Defining a customized tukey plot layout\n",
    "tuk_plot <- function (x, xlab, ylab, ylabels = NULL, ...) {\n",
    "  for (i in seq_along(x)) {\n",
    "    xi <- x[[i]][, -4L, drop = FALSE]\n",
    "    yvals <- nrow(xi):1L\n",
    "    dev.hold()\n",
    "    on.exit(dev.flush())\n",
    "    plot(c(xi[, \"lwr\"], xi[, \"upr\"]), rep.int(yvals, 2L), \n",
    "         type = \"n\", axes = FALSE, xlab = \"\", ylab = \"\", main = NULL, \n",
    "         ...)\n",
    "    axis(1, ...)\n",
    "    # change for custom axis labels\n",
    "    if (is.null(ylabels)) ylabels <- NULL # dimnames(xi)[[1L]]\n",
    "\n",
    "    axis(2, at = nrow(xi):1, labels = ylabels, \n",
    "         srt = 180, ...)\n",
    "    abline(h = yvals, lty = 1, lwd = 0.5, col = \"lightgray\")\n",
    "    abline(v = 0, lty = 2, lwd = 0.5, ...)\n",
    "    segments(xi[, \"lwr\"], yvals, xi[, \"upr\"], yvals, ...)\n",
    "    segments(as.vector(xi), rep.int(yvals - 0.1, 3L), as.vector(xi), \n",
    "             rep.int(yvals + 0.1, 3L), ...)\n",
    "    title(main = paste0(format(100 * attr(x, \"\"), \n",
    "                               digits = 2L), \"\"), #\"% family-wise confidence level\\n\"\n",
    "          # change for custom axis titles\n",
    "          xlab = xlab, ylab = ylab)\n",
    "\n",
    "    box()\n",
    "    dev.flush()\n",
    "    on.exit()\n",
    "  }\n",
    "}"
   ]
  },
  {
   "cell_type": "code",
   "execution_count": null,
   "metadata": {},
   "outputs": [],
   "source": [
    "# Plotting the test result\n",
    "par(mar=c(5.1, 8.1, 4.1, 2.1))\n",
    "plot(TUKEYP, las = 1, col = 'brown')"
   ]
  },
  {
   "cell_type": "code",
   "execution_count": null,
   "metadata": {},
   "outputs": [],
   "source": [
    "#TUKEYC\n",
    "#TUKEYH\n",
    "TUKEYP"
   ]
  },
  {
   "cell_type": "code",
   "execution_count": null,
   "metadata": {},
   "outputs": [],
   "source": [
    "#ggplot(data = expStarchGwas, aes(x=Exp., y=CR)) + \n",
    "#    geom_boxplot()\n",
    "#ggplot(data = expStarchGwas, aes(x=Exp., y=HR)) + \n",
    "#    geom_boxplot()\n",
    "ggplot(data = expStarchGwas, aes(x=Exp., y=Perc)) + \n",
    "    geom_boxplot()"
   ]
  },
  {
   "cell_type": "markdown",
   "metadata": {},
   "source": [
    "## Producing batch analysis plots for MA"
   ]
  },
  {
   "cell_type": "code",
   "execution_count": null,
   "metadata": {},
   "outputs": [],
   "source": [
    "head(expStarchGwas)"
   ]
  },
  {
   "cell_type": "code",
   "execution_count": null,
   "metadata": {},
   "outputs": [],
   "source": [
    "#png(filename=here('Figures', 'Phenotypic_data', 'pheno_batch_effect.png'), res=150, width = 1500, height = 1000)\n",
    "# Layout to split the screen\n",
    "layout(mat = matrix(c(1,2),1,2, byrow=TRUE))\n",
    "# Draw the boxplot and the tukey plot\n",
    "# First, the boxplot\n",
    "par(mar=c(5.1, 5, 4.1, 2.1))\n",
    "boxplot(Perc ~ Exp., data = expStarchGwas, xaxt = 'n', yaxt = 'n', xlab = '', ylab = '')\n",
    "axis(side = 1, las = 1)\n",
    "axis(side = 2, las = 2, mpg = c(3,1,0), at = seq(0,180,20), labels = seq(0,180,20))\n",
    "mtext(side=1, line=3.2, \"Batch\", cex=1.4)\n",
    "mtext(side=2, line=3, \"Starch concentration ratio [%]\", cex=1.4)\n",
    "mtext(\"A\", adj=-0.25, line=1, font = 2, cex = 1.7)\n",
    "# Second, the tukey plot\n",
    "par(mar=c(5.1, 5, 4.1, 2.1))\n",
    "tuk_plot(TUKEYP, '', '', xaxt = 'n', yaxt = 'n')\n",
    "mtext(side=1, line=3.2, \"Differences in means\", cex=1.4)\n",
    "mtext(side=2, line=3, \"Pairwise comparisons between batches\", cex=1.4)\n",
    "axis(side = 1, las = 1, at = seq(-50, 20, 10), labels = seq(-50, 20, 10))\n",
    "axis(side = 2, las = 2, mpg = c(3,1,0), at = c(1,2,3,4,5,6), labels = c(\"3-4\", \"2-4\", \"2-3\", \"1-4\", \"1-3\", \"1-2\"))\n",
    "mtext(\"B\", adj=-0.25, line=1, font = 2, cex = 1.7)\n",
    "#dev.off()"
   ]
  },
  {
   "cell_type": "code",
   "execution_count": null,
   "metadata": {},
   "outputs": [],
   "source": [
    "#png(filename=here('Figures', 'Phenotypic_data', 'pheno_histogram.png'), res=100, width = 1000, height = 1000)\n",
    "# Layout to split the screen\n",
    "layout(mat = matrix(c(1,2),2,1, byrow=TRUE),  height = c(6,1))\n",
    "# Draw the boxplot and the histogram \n",
    "par(mar=c(4.1, 4.3, 3, 2.1))\n",
    "hist(phenoGWAS$Trait, breaks=20, col=rgb(0.2,0.8,0.5,0.5), border=T, main=\"\", xlab=\"\", ylab = \"\", xlim=c(-10,180),\n",
    "     ylim=c(0, 40), xaxt = 'n', , yaxt = 'n')\n",
    "#title(\"Distribution of starch ratio between heat-treated\\nand control measurements\")\n",
    "axis(side=1, at=seq(0,180,20), labels=seq(0,180,20), cex.axis=1.3)\n",
    "axis(side=2, at=seq(0,40,10), labels=seq(0,40,10), cex.axis=1.5)\n",
    "mtext(side=1, line=4.3, \"Starch concentration ratio\\n(Heat/Control) [%]\", cex=1.4)\n",
    "mtext(side=2, line=3, \"Frequency\", cex=1.4)\n",
    "par(mar=c(0, 4.3, 2, 2.1))\n",
    "boxplot(phenoGWAS$Trait, horizontal=TRUE , ylim=c(-10,180), xaxt=\"n\", col=rgb(0.2,0.8,0.5,0.5), frame=F)\n",
    "#dev.off()"
   ]
  },
  {
   "cell_type": "code",
   "execution_count": null,
   "metadata": {},
   "outputs": [],
   "source": [
    "phenoGWAS <- expStarchGwas %>%\n",
    "    select(Identifier, Perc)\n",
    "colnames(phenoGWAS) <- c(\"Individual\", \"Trait\")"
   ]
  },
  {
   "cell_type": "code",
   "execution_count": null,
   "metadata": {},
   "outputs": [],
   "source": [
    "# Adopting individual names to fit to the VCF files\n",
    "phenoGWAS$Individual <- paste0(\"Sample_\", phenoGWAS$Individual)"
   ]
  },
  {
   "cell_type": "code",
   "execution_count": null,
   "metadata": {},
   "outputs": [],
   "source": [
    "phenoGWAS$Trait <- round(phenoGWAS$Trait,2)"
   ]
  },
  {
   "cell_type": "code",
   "execution_count": null,
   "metadata": {},
   "outputs": [],
   "source": [
    "sd(phenoGWAS$Trait)"
   ]
  },
  {
   "cell_type": "code",
   "execution_count": null,
   "metadata": {},
   "outputs": [],
   "source": [
    "mean(phenoGWAS$Trait)\n",
    "mean(phenoGWAS$Trait) + 2 * sd(phenoGWAS$Trait)\n",
    "mean(phenoGWAS$Trait) - 2 * sd(phenoGWAS$Trait)"
   ]
  },
  {
   "cell_type": "code",
   "execution_count": null,
   "metadata": {},
   "outputs": [],
   "source": [
    "phenoGWAS$Individual[!(phenoGWAS$Trait <= mean(phenoGWAS$Trait) + 2 * sd(phenoGWAS$Trait) & phenoGWAS$Trait >= mean(phenoGWAS$Trait) - 2 * sd(phenoGWAS$Trait))]\n",
    "phenoGWAS$Trait[!(phenoGWAS$Trait <= mean(phenoGWAS$Trait) + 2 * sd(phenoGWAS$Trait) & phenoGWAS$Trait >= mean(phenoGWAS$Trait) - 2 * sd(phenoGWAS$Trait))]"
   ]
  },
  {
   "cell_type": "code",
   "execution_count": null,
   "metadata": {},
   "outputs": [],
   "source": [
    "phenoGWAS$Trait <= mean(phenoGWAS$Trait) + 2 * sd(phenoGWAS$Trait) & phenoGWAS$Trait >= mean(phenoGWAS$Trait) - 2 * sd(phenoGWAS$Trait)"
   ]
  },
  {
   "cell_type": "code",
   "execution_count": null,
   "metadata": {},
   "outputs": [],
   "source": [
    "# Layout to split the screen\n",
    "layout(mat = matrix(c(1,2),2,1, byrow=TRUE),  height = c(6,1))\n",
    "# Draw the boxplot and the histogram \n",
    "par(mar=c(4.1, 4.3, 3, 2.1))\n",
    "hist(phenoGWAS$Trait, breaks=20, col=rgb(0.2,0.8,0.5,0.5), border=T, main=\"\", xlab=\"\", ylab = \"\", xlim=c(-10,180),\n",
    "     ylim=c(0, 40), xaxt = 'n', , yaxt = 'n')\n",
    "title(\"Distribution of starch ratio between heat-treated\\nand control measurements\")\n",
    "axis(side=1, at=seq(0,180,20), labels=seq(0,180,20), cex.axis=1.3)\n",
    "axis(side=2, at=seq(0,40,10), labels=seq(0,40,10), cex.axis=1.5, las =2)\n",
    "mtext(side=1, line=4.3, \"Starch concentration ratio\\n(Heat/Control) [%]\", cex=1.4)\n",
    "mtext(side=2, line=3, \"Frequency\", cex=1.4)\n",
    "par(mar=c(0, 4.3, 2, 2.1))\n",
    "boxplot(phenoGWAS$Trait, horizontal=TRUE , ylim=c(-10,180), xaxt=\"n\", col=rgb(0.2,0.8,0.5,0.5), frame=F)"
   ]
  },
  {
   "cell_type": "code",
   "execution_count": null,
   "metadata": {},
   "outputs": [],
   "source": [
    "png(filename=here('Figures', 'Phenotypic_data', 'pheno_histogram.png'), res=100, width = 1000, height = 1000)\n",
    "# Layout to split the screen\n",
    "layout(mat = matrix(c(1,2),2,1, byrow=TRUE),  height = c(6,1))\n",
    "# Draw the boxplot and the histogram \n",
    "par(mar=c(4.1, 4.3, 3, 2.1))\n",
    "hist(phenoGWAS$Trait, breaks=20, col=rgb(0.2,0.8,0.5,0.5), border=T, main=\"\", xlab=\"\", ylab = \"\", xlim=c(-10,180),\n",
    "     ylim=c(0, 40), xaxt = 'n', , yaxt = 'n')\n",
    "#title(\"Distribution of starch ratio between heat-treated\\nand control measurements\")\n",
    "axis(side=1, at=seq(0,180,20), labels=seq(0,180,20), cex.axis=1.3)\n",
    "axis(side=2, at=seq(0,40,10), labels=seq(0,40,10), cex.axis=1.5)\n",
    "mtext(side=1, line=4.3, \"Starch concentration ratio\\n(Heat/Control) [%]\", cex=1.4)\n",
    "mtext(side=2, line=3, \"Frequency\", cex=1.4)\n",
    "par(mar=c(0, 4.3, 2, 2.1))\n",
    "boxplot(phenoGWAS$Trait, horizontal=TRUE , ylim=c(-10,180), xaxt=\"n\", col=rgb(0.2,0.8,0.5,0.5), frame=F)\n",
    "dev.off()"
   ]
  },
  {
   "cell_type": "code",
   "execution_count": null,
   "metadata": {},
   "outputs": [],
   "source": [
    "png(filename=here('Figures', 'Phenotypic_data', 'pheno_histogram_qq-plot.png'), res=150, width = 1500, height = 1000)\n",
    "layout(matrix(c(1,2,\n",
    "                3,3), nrow = 2, byrow = FALSE),\n",
    "       height = c(3,1),\n",
    "       width = c(1,1))\n",
    "\n",
    "par(mar=c(3.5, 4.7, 3, 2.1))\n",
    "hist(phenoGWAS$Trait, breaks=20, col=rgb(0.2,0.8,0.5,0.5), border=T, main=\"\", xlab=\"\", ylab = \"\", xlim=c(-10,180),\n",
    "     ylim=c(0, 40), xaxt = 'n', , yaxt = 'n')\n",
    "#title(\"Distribution of starch ratio between heat-treated\\nand control measurements\")\n",
    "axis(side=1, at=seq(0,180,30), labels=seq(0,180,30), cex.axis=1.3)\n",
    "axis(side=2, las=2, at=seq(0,40,10), labels=seq(0,40,10), cex.axis=1.3)\n",
    "mtext(side=1, line=5.2, \"Starch concentration ratio\\n(Heat/Control) [%]\", cex=1.4)\n",
    "mtext(side=2, line=3, \"Frequency\", cex=1.4)\n",
    "mtext(\"A\", adj=-0.2, line=1, font = 2, cex = 1.7)\n",
    "\n",
    "par(mar=c(0, 4.7, 2, 2.1))\n",
    "boxplot(phenoGWAS$Trait, horizontal=TRUE , ylim=c(-10,180), xaxt=\"n\", col=rgb(0.2,0.8,0.5,0.5), frame=F)\n",
    "\n",
    "par(mar=c(8, 4.7, 3, 2.1))\n",
    "qqnorm(phenoGWAS$Trait, main=\"\", xlab=\"\", ylab = \"\", , xaxt = 'n', yaxt = 'n')\n",
    "axis(side=1, at=seq(-3,3,1), labels=seq(-3,3,1), cex.axis=1.3)\n",
    "axis(side=2, las =2, at=seq(0,180,20), labels=seq(0,180,20), cex.axis=1.3)\n",
    "mtext(side=1, line=4.3, \"Theoretical quantiles\", cex=1.4)\n",
    "mtext(side=2, line=3.3, \"Sample quantiles\", cex=1.4)\n",
    "mtext(\"B\", adj=-0.21, line=1, font = 2, cex = 1.7)\n",
    "qqline(phenoGWAS$Trait, datax = FALSE, distribution = qnorm, qtype = 7, col = 'red')\n",
    "#layout.show(n=3)\n",
    "dev.off()"
   ]
  },
  {
   "cell_type": "code",
   "execution_count": null,
   "metadata": {},
   "outputs": [],
   "source": [
    "qqnorm(phenoGWAS$Trait)\n",
    "qqline(phenoGWAS$Trait, datax = FALSE, distribution = qnorm, qtype = 7, col = 'red')"
   ]
  },
  {
   "cell_type": "code",
   "execution_count": null,
   "metadata": {},
   "outputs": [],
   "source": [
    "CDF <- ecdf(phenoGWAS$Trait)"
   ]
  },
  {
   "cell_type": "code",
   "execution_count": null,
   "metadata": {},
   "outputs": [],
   "source": [
    "shapiro.test(phenoGWAS$Trait)"
   ]
  },
  {
   "cell_type": "code",
   "execution_count": null,
   "metadata": {},
   "outputs": [],
   "source": [
    "dev.off()"
   ]
  },
  {
   "cell_type": "code",
   "execution_count": null,
   "metadata": {},
   "outputs": [],
   "source": [
    "outPath <- here(\"data\", \"Phenotype_data\", \"GWAS_input.csv\")"
   ]
  },
  {
   "cell_type": "code",
   "execution_count": null,
   "metadata": {},
   "outputs": [],
   "source": [
    "head(phenoGWAS)"
   ]
  },
  {
   "cell_type": "code",
   "execution_count": null,
   "metadata": {},
   "outputs": [],
   "source": [
    "write.csv(phenoGWAS, outPath, row.names=FALSE, quote=FALSE)"
   ]
  }
 ],
 "metadata": {
  "kernelspec": {
   "display_name": "R",
   "language": "R",
   "name": "ir"
  },
  "language_info": {
   "codemirror_mode": "r",
   "file_extension": ".r",
   "mimetype": "text/x-r-source",
   "name": "R",
   "pygments_lexer": "r",
   "version": "3.6.3"
  }
 },
 "nbformat": 4,
 "nbformat_minor": 4
}
